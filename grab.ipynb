{
 "cells": [
  {
   "cell_type": "code",
   "execution_count": 304,
   "metadata": {},
   "outputs": [],
   "source": [
    "from bs4 import BeautifulSoup as bs\n",
    "from selenium import webdriver\n",
    "from selenium.webdriver import ActionChains as ac\n",
    "from selenium.webdriver.common.by import By as by\n",
    "from selenium.webdriver.support.ui import Select as sel\n",
    "\n",
    "import os\n",
    "import copy\n",
    "import csv\n",
    "import html\n",
    "import chromedriver_autoinstaller\n",
    "import time\n"
   ]
  },
  {
   "cell_type": "code",
   "execution_count": 305,
   "metadata": {},
   "outputs": [],
   "source": [
    "URL_INIT = 'https://chunithm-net-eng.com'\n",
    "URL_LOGGED_IN = 'https://chunithm-net-eng.com/mobile/home/'\n",
    "URL_LV_BASE = 'https://chunithm-net-eng.com/mobile/record/musicLevel/'\n",
    "URL_GENRE_BASE = 'https://chunithm-net-eng.com/mobile/ranking/'\n",
    "DIFFICULTY_LIST = ['basic', 'advanced', 'expert', 'master', 'ultimate']\n",
    "lvDict = {}"
   ]
  },
  {
   "cell_type": "code",
   "execution_count": 306,
   "metadata": {},
   "outputs": [],
   "source": [
    "class WebHandler:\n",
    "    def __init__(self):\n",
    "        self.DRIVER_PATH = chromedriver_autoinstaller.install()\n",
    "        self.driver: webdriver.Chrome = None\n",
    "        \n",
    "        dir = ['./lv', './genre']\n",
    "        for x in dir:\n",
    "            if not os.path.exists(x):\n",
    "                os.mkdir(x)\n",
    "    \n",
    "    def openWeb(self):\n",
    "        self.driver = webdriver.Chrome(self.DRIVER_PATH)\n",
    "        self.driver.get(URL_INIT)\n",
    "        \n",
    "    def grabHtml(self):\n",
    "        while self.driver.current_url != URL_LOGGED_IN:\n",
    "            print(self.driver.current_url)\n",
    "            time.sleep(0.5)\n",
    "            \n",
    "        self.driver.get(URL_LV_BASE)\n",
    "        with open('./tmp.html', 'w', encoding='UTF-8') as f:\n",
    "            f.write(self.driver.page_source)\n",
    "        \n",
    "        page = open('./tmp.html', 'rt', encoding='utf-8').read()\n",
    "        lvOptions = bs(page, 'html.parser').find(\"select\").find_all(\"option\")\n",
    "        \n",
    "        for x in lvOptions:\n",
    "            lvDict[x.attrs[\"value\"]] = x.text\n",
    "        \n",
    "        for key in lvDict.keys():\n",
    "            select = sel(self.driver.find_element(by.NAME, \"level\"))\n",
    "            select.select_by_value(key)\n",
    "            \n",
    "            with open('./lv/' + lvDict[key] + '.html', 'w', encoding='UTF-8') as f:\n",
    "                f.write(self.driver.page_source)\n",
    "        \n",
    "        self.driver.get(URL_GENRE_BASE)\n",
    "        for x in DIFFICULTY_LIST:\n",
    "            e = self.driver.find_element(by.CLASS_NAME, \"btn_\" + x)\n",
    "            ac(self.driver).click(e).perform()\n",
    "            \n",
    "            with open('./genre/' + x + '.html', 'w', encoding='UTF-8') as f:\n",
    "                f.write(self.driver.page_source)"
   ]
  },
  {
   "cell_type": "code",
   "execution_count": 307,
   "metadata": {},
   "outputs": [],
   "source": [
    "class Detail:\n",
    "    def __init__(self):\n",
    "        self.genre: str = None\n",
    "        self.lv: list = list()"
   ]
  },
  {
   "cell_type": "code",
   "execution_count": 308,
   "metadata": {},
   "outputs": [],
   "source": [
    "def compare(x: str, y: str):\n",
    "    tmpX = x\n",
    "    tmpY = y\n",
    "    \n",
    "    if '+' in tmpX:\n",
    "        tmpX = x.replace('+', '.5')\n",
    "    \n",
    "    if '+' in tmpY:\n",
    "        tmpY = y.replace('+', '.5')\n",
    "    \n",
    "    tmpX = float(tmpX)\n",
    "    tmpY = float(tmpY)\n",
    "    \n",
    "    return 0 if tmpX == tmpY else tmpX < tmpY"
   ]
  },
  {
   "cell_type": "code",
   "execution_count": 309,
   "metadata": {},
   "outputs": [],
   "source": [
    "def grabData():\n",
    "    LV_FILES = list()\n",
    "    GENRE_FILES = list()\n",
    "    music: dict[str, Detail] = {}\n",
    "\n",
    "    for x in os.listdir('./lv'):\n",
    "        if '.html' in x:\n",
    "            LV_FILES.append(x)\n",
    "\n",
    "    for x in os.listdir('./genre'):\n",
    "        if '.html' in x:\n",
    "            GENRE_FILES.append(x)\n",
    "            \n",
    "    for f in LV_FILES:\n",
    "        page = open('./lv/' + f, 'rt', encoding='utf-8').read()\n",
    "        soup = bs(page, 'html.parser')\n",
    "        lv = f.replace('lv', '').replace('.html', '')\n",
    "        \n",
    "        for x in soup.find_all('div', 'music_title'):     \n",
    "            name = x.text     \n",
    "            if not name in music:\n",
    "                music[name] = Detail()\n",
    "            music[name].lv.append(lv)\n",
    "\n",
    "    for f in GENRE_FILES:\n",
    "        page = open('./genre/' + f, 'rt', encoding='utf-8').read()\n",
    "        soup = bs(page, 'html.parser')\n",
    "        \n",
    "        currentGenre = None\n",
    "        for line in str(soup.prettify).split('\\n'):\n",
    "            if '<div class=\"genre scroll_point text_white\">' in line:\n",
    "                currentGenre = html.unescape(line[line.index('>')+1:line.index('<', 2)])\n",
    "                \n",
    "            if '<div class=\"music_title\">' in line:\n",
    "                name = html.unescape(line[line.index('>')+1:line.index('<', 2)])\n",
    "                music[name].genre = currentGenre\n",
    "      \n",
    "    with open('output.csv', 'w', encoding='UTF-8') as f:\n",
    "        for key in music.keys():\n",
    "            f.write(\"%s, %s, \" % (key, music[key].genre))\n",
    "            \n",
    "            for lv in music[key].lv:\n",
    "                lv = lv.replace(\"LEVEL \", \"\")\n",
    "                f.write(\"%s, \" % (lv) )\n",
    "            f.write(\"\\n\")"
   ]
  },
  {
   "cell_type": "code",
   "execution_count": 310,
   "metadata": {},
   "outputs": [
    {
     "name": "stderr",
     "output_type": "stream",
     "text": [
      "C:\\Users\\Toygoon\\AppData\\Local\\Temp\\ipykernel_18680\\2090486308.py:12: DeprecationWarning: executable_path has been deprecated, please pass in a Service object\n",
      "  self.driver = webdriver.Chrome(self.DRIVER_PATH)\n"
     ]
    },
    {
     "name": "stdout",
     "output_type": "stream",
     "text": [
      "https://lng-tgk-aime-gw.am-all.net/common_auth/login?site_id=chuniex&redirect_url=https://chunithm-net-eng.com/mobile/&back_url=https://chunithm.sega.com/\n",
      "https://lng-tgk-aime-gw.am-all.net/common_auth/login?site_id=chuniex&redirect_url=https://chunithm-net-eng.com/mobile/&back_url=https://chunithm.sega.com/\n",
      "https://lng-tgk-aime-gw.am-all.net/common_auth/login?site_id=chuniex&redirect_url=https://chunithm-net-eng.com/mobile/&back_url=https://chunithm.sega.com/\n",
      "https://lng-tgk-aime-gw.am-all.net/common_auth/login?site_id=chuniex&redirect_url=https://chunithm-net-eng.com/mobile/&back_url=https://chunithm.sega.com/\n",
      "https://lng-tgk-aime-gw.am-all.net/common_auth/login?site_id=chuniex&redirect_url=https://chunithm-net-eng.com/mobile/&back_url=https://chunithm.sega.com/\n",
      "https://lng-tgk-aime-gw.am-all.net/common_auth/login?site_id=chuniex&redirect_url=https://chunithm-net-eng.com/mobile/&back_url=https://chunithm.sega.com/\n",
      "https://lng-tgk-aime-gw.am-all.net/common_auth/login?site_id=chuniex&redirect_url=https://chunithm-net-eng.com/mobile/&back_url=https://chunithm.sega.com/\n",
      "https://lng-tgk-aime-gw.am-all.net/common_auth/login?site_id=chuniex&redirect_url=https://chunithm-net-eng.com/mobile/&back_url=https://chunithm.sega.com/\n",
      "https://lng-tgk-aime-gw.am-all.net/common_auth/login?site_id=chuniex&redirect_url=https://chunithm-net-eng.com/mobile/&back_url=https://chunithm.sega.com/\n",
      "https://api.twitter.com/oauth/authenticate?oauth_token=apIuYgAAAAABAXmLAAABgkKQ7uA\n",
      "https://api.twitter.com/oauth/authenticate?oauth_token=apIuYgAAAAABAXmLAAABgkKQ7uA\n",
      "https://api.twitter.com/oauth/authenticate?oauth_token=apIuYgAAAAABAXmLAAABgkKQ7uA\n",
      "https://api.twitter.com/oauth/authenticate?oauth_token=apIuYgAAAAABAXmLAAABgkKQ7uA\n"
     ]
    },
    {
     "ename": "TypeError",
     "evalue": "'<' not supported between instances of 'NoneType' and 'NoneType'",
     "output_type": "error",
     "traceback": [
      "\u001b[1;31m---------------------------------------------------------------------------\u001b[0m",
      "\u001b[1;31mTypeError\u001b[0m                                 Traceback (most recent call last)",
      "\u001b[1;32mc:\\Users\\Toygoon\\workspace\\Jupyter\\grab\\grab.ipynb 셀 7\u001b[0m in \u001b[0;36m<cell line: 1>\u001b[1;34m()\u001b[0m\n\u001b[0;32m      <a href='vscode-notebook-cell:/c%3A/Users/Toygoon/workspace/Jupyter/grab/grab.ipynb#ch0000005?line=2'>3</a>\u001b[0m wh\u001b[39m.\u001b[39mopenWeb()\n\u001b[0;32m      <a href='vscode-notebook-cell:/c%3A/Users/Toygoon/workspace/Jupyter/grab/grab.ipynb#ch0000005?line=3'>4</a>\u001b[0m wh\u001b[39m.\u001b[39mgrabHtml()\n\u001b[1;32m----> <a href='vscode-notebook-cell:/c%3A/Users/Toygoon/workspace/Jupyter/grab/grab.ipynb#ch0000005?line=5'>6</a>\u001b[0m grabData()\n",
      "\u001b[1;32mc:\\Users\\Toygoon\\workspace\\Jupyter\\grab\\grab.ipynb 셀 7\u001b[0m in \u001b[0;36mgrabData\u001b[1;34m()\u001b[0m\n\u001b[0;32m     <a href='vscode-notebook-cell:/c%3A/Users/Toygoon/workspace/Jupyter/grab/grab.ipynb#ch0000005?line=38'>39</a>\u001b[0m \u001b[39mfor\u001b[39;00m key \u001b[39min\u001b[39;00m music\u001b[39m.\u001b[39mkeys():\n\u001b[0;32m     <a href='vscode-notebook-cell:/c%3A/Users/Toygoon/workspace/Jupyter/grab/grab.ipynb#ch0000005?line=39'>40</a>\u001b[0m     f\u001b[39m.\u001b[39mwrite(\u001b[39m\"\u001b[39m\u001b[39m%s\u001b[39;00m\u001b[39m, \u001b[39m\u001b[39m%s\u001b[39;00m\u001b[39m, \u001b[39m\u001b[39m\"\u001b[39m \u001b[39m%\u001b[39m (key, music[key]\u001b[39m.\u001b[39mgenre))\n\u001b[1;32m---> <a href='vscode-notebook-cell:/c%3A/Users/Toygoon/workspace/Jupyter/grab/grab.ipynb#ch0000005?line=41'>42</a>\u001b[0m     music[key]\u001b[39m.\u001b[39mlv \u001b[39m=\u001b[39m \u001b[39msorted\u001b[39;49m(music[key]\u001b[39m.\u001b[39;49mlv, key\u001b[39m=\u001b[39;49mlvDict\u001b[39m.\u001b[39;49mget)\n\u001b[0;32m     <a href='vscode-notebook-cell:/c%3A/Users/Toygoon/workspace/Jupyter/grab/grab.ipynb#ch0000005?line=42'>43</a>\u001b[0m     \u001b[39mfor\u001b[39;00m lv \u001b[39min\u001b[39;00m music[key]\u001b[39m.\u001b[39mlv:\n\u001b[0;32m     <a href='vscode-notebook-cell:/c%3A/Users/Toygoon/workspace/Jupyter/grab/grab.ipynb#ch0000005?line=43'>44</a>\u001b[0m         f\u001b[39m.\u001b[39mwrite(\u001b[39m\"\u001b[39m\u001b[39m%s\u001b[39;00m\u001b[39m, \u001b[39m\u001b[39m\"\u001b[39m \u001b[39m%\u001b[39m (lv) )\n",
      "\u001b[1;31mTypeError\u001b[0m: '<' not supported between instances of 'NoneType' and 'NoneType'"
     ]
    }
   ],
   "source": [
    "if __name__ == \"__main__\":\n",
    "    wh = WebHandler()\n",
    "    wh.openWeb()\n",
    "    wh.grabHtml()\n",
    "    \n",
    "    grabData()"
   ]
  }
 ],
 "metadata": {
  "kernelspec": {
   "display_name": "Python 3.10.4 64-bit",
   "language": "python",
   "name": "python3"
  },
  "language_info": {
   "codemirror_mode": {
    "name": "ipython",
    "version": 3
   },
   "file_extension": ".py",
   "mimetype": "text/x-python",
   "name": "python",
   "nbconvert_exporter": "python",
   "pygments_lexer": "ipython3",
   "version": "3.10.4"
  },
  "orig_nbformat": 4,
  "vscode": {
   "interpreter": {
    "hash": "3e9fcf24d5d31c3517bf038efdc113a5b20d9015f0fcc379d640fb1495b88fb6"
   }
  }
 },
 "nbformat": 4,
 "nbformat_minor": 2
}
